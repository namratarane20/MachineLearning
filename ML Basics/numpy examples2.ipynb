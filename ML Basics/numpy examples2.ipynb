{
 "cells": [
  {
   "cell_type": "code",
   "execution_count": null,
   "metadata": {},
   "outputs": [],
   "source": [
    "import numpy as np\n",
    "np.arange(0,20,2)"
   ]
  },
  {
   "cell_type": "code",
   "execution_count": null,
   "metadata": {},
   "outputs": [],
   "source": [
    "np.zeros((3,6))"
   ]
  },
  {
   "cell_type": "code",
   "execution_count": null,
   "metadata": {},
   "outputs": [],
   "source": [
    "np.ones((4,6))"
   ]
  },
  {
   "cell_type": "code",
   "execution_count": null,
   "metadata": {},
   "outputs": [],
   "source": [
    "np.random.randint(1,100,(6,6))"
   ]
  },
  {
   "cell_type": "code",
   "execution_count": null,
   "metadata": {},
   "outputs": [],
   "source": [
    "import numpy as np\n",
    "np.random.randint(0,100,10)"
   ]
  },
  {
   "cell_type": "code",
   "execution_count": 59,
   "metadata": {},
   "outputs": [
    {
     "data": {
      "text/plain": [
       "array([37, 12, 72,  9, 75,  5, 79, 64, 16,  1])"
      ]
     },
     "execution_count": 59,
     "metadata": {},
     "output_type": "execute_result"
    }
   ],
   "source": [
    "np.random.seed(1)\n",
    "np.random.randint(0,100,10)"
   ]
  },
  {
   "cell_type": "code",
   "execution_count": 8,
   "metadata": {},
   "outputs": [
    {
     "data": {
      "text/plain": [
       "array([37, 12, 72,  9, 75,  5, 79, 64, 16,  1])"
      ]
     },
     "execution_count": 8,
     "metadata": {},
     "output_type": "execute_result"
    }
   ],
   "source": [
    "import numpy as np\n",
    "np.random.seed(1)\n",
    "np.random.randint(0,100,10)"
   ]
  },
  {
   "cell_type": "code",
   "execution_count": 9,
   "metadata": {},
   "outputs": [
    {
     "name": "stdout",
     "output_type": "stream",
     "text": [
      "this is my randon ones time array========= [37 12 72  9 75  5 79 64 16  1 76 71  6 25 50 20 18 84 11 28 29 14 50 68\n",
      " 87 87 94 96 86 13  9  7]\n",
      "this is the maximum numner form my array== 96\n",
      "this is the minimum number from array===== 1\n",
      "this is the mean value of my array======== 43.71875\n",
      "index  value of maximum numberin arary==== 27\n",
      "index  value of manimum numberin arary==== 9\n",
      "add the array in matrix form like ======== [[37 12 72  9 75  5 79 64]\n",
      " [16  1 76 71  6 25 50 20]\n",
      " [18 84 11 28 29 14 50 68]\n",
      " [87 87 94 96 86 13  9  7]]\n"
     ]
    }
   ],
   "source": [
    "np.random.seed(1)\n",
    "myArray=np.random.randint(0,100,32)\n",
    "print('this is my randon ones time array=========',myArray)\n",
    "print('this is the maximum numner form my array==',myArray.max())\n",
    "print('this is the minimum number from array=====',myArray.min())\n",
    "print('this is the mean value of my array========',myArray.mean())\n",
    "print('index  value of maximum numberin arary====',myArray.argmax())\n",
    "print('index  value of manimum numberin arary====',myArray.argmin())\n",
    "print('add the array in matrix form like ========',myArray.reshape(4,8))"
   ]
  },
  {
   "cell_type": "code",
   "execution_count": 10,
   "metadata": {},
   "outputs": [
    {
     "data": {
      "text/plain": [
       "array([[37, 98, 64, 86, 64, 12, 41, 92, 99, 55],\n",
       "       [29,  2, 67, 31, 89,  7, 39, 25, 87,  6],\n",
       "       [31, 69, 43, 37, 92, 24, 67, 96, 49, 50],\n",
       "       [68, 88, 92, 52,  8, 36, 97,  6, 97, 39],\n",
       "       [69, 22, 36, 72, 18, 48, 25, 66, 33, 98],\n",
       "       [ 4, 41, 29, 46, 24, 54, 58, 13, 49, 54],\n",
       "       [67, 75, 41, 92, 95, 41,  0, 48, 10, 71],\n",
       "       [53, 85, 72,  9, 35, 73, 20, 97,  1, 35],\n",
       "       [78, 52, 76, 91, 10, 22, 75, 70, 64, 34],\n",
       "       [30, 23, 57, 30, 28,  8, 77, 93, 21, 97]])"
      ]
     },
     "execution_count": 10,
     "metadata": {},
     "output_type": "execute_result"
    }
   ],
   "source": [
    "np.random.seed() # if we didnt menton any number as seed parameter our values will change continuesly it will not take once tiem random number\n",
    "np.random.randint(0,100,100).reshape(10,10)"
   ]
  },
  {
   "cell_type": "code",
   "execution_count": 11,
   "metadata": {},
   "outputs": [
    {
     "data": {
      "text/plain": [
       "array([[82, 69, 80, 68, 39,  6, 78, 64, 96, 93],\n",
       "       [80, 27, 81, 84, 79, 92, 31, 87,  9, 86],\n",
       "       [75, 71, 15, 59, 99, 62, 81, 40, 10, 52],\n",
       "       [53, 31,  7, 51, 72, 57, 94, 24, 37,  0],\n",
       "       [35, 33, 80, 72, 77, 60,  8, 69, 39, 21],\n",
       "       [77, 50, 95, 38, 93, 82, 70, 43, 68, 89],\n",
       "       [53,  4, 86,  3, 58, 47, 79,  1, 41, 76],\n",
       "       [34, 53, 57, 66, 70, 94, 26, 90, 66, 54],\n",
       "       [63, 27, 16, 69, 19, 60, 82, 97, 40,  2],\n",
       "       [20, 64, 65, 48, 36, 19, 39, 53, 57, 47]])"
      ]
     },
     "execution_count": 11,
     "metadata": {},
     "output_type": "execute_result"
    }
   ],
   "source": [
    "matrix =np.random.randint(0,100,100).reshape(10,10)\n",
    "matrix"
   ]
  },
  {
   "cell_type": "code",
   "execution_count": 22,
   "metadata": {},
   "outputs": [
    {
     "name": "stdout",
     "output_type": "stream",
     "text": [
      "93\n",
      "24\n",
      "82\n",
      "[82 80 75 53 35 77 53 34 63 20]\n",
      "[68 84 59 51 72 38  3 66 69 48]\n",
      "[82 69 80 68 39  6 78 64 96 93]\n",
      "[34 53 57 66 70 94 26 90 66 54]\n",
      "[[82 69 80 68 39]\n",
      " [80 27 81 84 79]\n",
      " [75 71 15 59 99]]\n"
     ]
    }
   ],
   "source": [
    "print(matrix[5,4])\n",
    "print(matrix[3,7])\n",
    "\n",
    "print(matrix[8,6])\n",
    "print(matrix[:,0])#it will take 0 th  position coloumn.\n",
    "print(matrix[:,3])#it will take 3 rd position coiulmn.\n",
    "print(matrix[0,:])# it will take 0 th positon row.\n",
    "print(matrix[7,:])# it will take 7th postion row.\n",
    "print(matrix[0:3,0:5])# it will print the matrix row 3 and col 5"
   ]
  }
 ],
 "metadata": {
  "kernelspec": {
   "display_name": "Python 3",
   "language": "python",
   "name": "python3"
  }
 },
 "nbformat": 4,
 "nbformat_minor": 4
}
